{
 "cells": [
  {
   "cell_type": "code",
   "execution_count": 9,
   "id": "5993ae9f",
   "metadata": {},
   "outputs": [
    {
     "name": "stderr",
     "output_type": "stream",
     "text": [
      "'pip' is not recognized as an internal or external command,\n",
      "operable program or batch file.\n"
     ]
    }
   ],
   "source": [
    "!pip install fastapi uvicorn nest-asyncio pyngrok"
   ]
  },
  {
   "cell_type": "code",
   "execution_count": null,
   "id": "f91af2da",
   "metadata": {},
   "outputs": [
    {
     "name": "stderr",
     "output_type": "stream",
     "text": [
      "INFO:     Started server process [7604]\n",
      "INFO:     Waiting for application startup.\n",
      "INFO:     Application startup complete.\n",
      "INFO:     Uvicorn running on http://127.0.0.1:3000 (Press CTRL+C to quit)\n"
     ]
    },
    {
     "name": "stdout",
     "output_type": "stream",
     "text": [
      "🚀 Swagger UI: https://b176-104-28-241-32.ngrok-free.app/docs\n",
      "🚀 API URL: https://b176-104-28-241-32.ngrok-free.app\n",
      "INFO:     2a09:bac1:34c0:20::3c1:2d:0 - \"GET /docs HTTP/1.1\" 200 OK\n",
      "INFO:     2a09:bac1:34c0:20::3c1:2d:0 - \"GET /openapi.json HTTP/1.1\" 200 OK\n",
      "INFO:     2a09:bac1:34c0:20::3c1:2d:0 - \"GET /api/Mahasiswa HTTP/1.1\" 200 OK\n",
      "INFO:     2a09:bac1:34c0:20::3c1:2d:0 - \"POST /api/Mahasiswa HTTP/1.1\" 200 OK\n"
     ]
    },
    {
     "name": "stderr",
     "output_type": "stream",
     "text": [
      "C:\\Users\\rth30\\AppData\\Local\\Temp\\ipykernel_7604\\2507888625.py:43: PydanticDeprecatedSince20: The `dict` method is deprecated; use `model_dump` instead. Deprecated in Pydantic V2.0 to be removed in V3.0. See Pydantic V2 Migration Guide at https://errors.pydantic.dev/2.11/migration/\n",
      "  mahasiswa_list.append(mahasiswa.dict())\n"
     ]
    },
    {
     "name": "stdout",
     "output_type": "stream",
     "text": [
      "INFO:     2a09:bac1:34c0:20::3c1:2d:0 - \"GET /api/Mahasiswa/1 HTTP/1.1\" 200 OK\n",
      "INFO:     2a09:bac1:34c0:20::3c1:2d:0 - \"DELETE /api/Mahasiswa/1 HTTP/1.1\" 200 OK\n"
     ]
    }
   ],
   "source": [
    "# Import library\n",
    "from fastapi import FastAPI\n",
    "from pydantic import BaseModel\n",
    "import nest_asyncio\n",
    "from pyngrok import ngrok, conf\n",
    "import uvicorn\n",
    "\n",
    "# Inisialisasi FastAPI\n",
    "app = FastAPI()\n",
    "\n",
    "# Konfigurasi ngrok (ganti token dengan punyamu)\n",
    "conf.get_default().auth_token = \"2xGqNb252DV6YJOKjGbQwhPLENo_2AnsLwFkxF3Jjp7qzpcvV\"\n",
    "\n",
    "# MODELS\n",
    "class Mahasiswa(BaseModel):\n",
    "    nama: str\n",
    "    nim: str\n",
    "    course: list[str]\n",
    "    year: int \n",
    "\n",
    "# DATA MAHASISWA - isi sesuai anggota kelompok (nama kamu paling atas)\n",
    "mahasiswa_list = [\n",
    "    {\"nama\": \"Firman Maulana\", \"nim\": \"2211104083\", \"course\": [\"Calculus\", \"English\"], \"year\": 2023},\n",
    "    {\"nama\": \"John Doe\", \"nim\": \"1111111111\", \"course\": [\"Mathematics\", \"Physics\"], \"year\": 2023},\n",
    "    {\"nama\": \"Mark\", \"nim\": \"2222222222\", \"course\": [\"Chemistry\", \"Biology\"], \"year\": 2023},\n",
    "    {\"nama\": \"Jane\", \"nim\": \"4444444444\", \"course\": [\"History\", \"Geography\"], \"year\": 2023},\n",
    "\n",
    "]\n",
    "\n",
    "# ENDPOINTS\n",
    "@app.get(\"/api/Mahasiswa\")\n",
    "def get_semua_mahasiswa():\n",
    "    return mahasiswa_list\n",
    "\n",
    "@app.get(\"/api/Mahasiswa/{index}\")\n",
    "def get_mahasiswa(index: int):\n",
    "    if 0 <= index < len(mahasiswa_list):\n",
    "        return mahasiswa_list[index]\n",
    "    return {\"error\": \"Index tidak ditemukan\"}\n",
    "\n",
    "@app.post(\"/api/Mahasiswa\")\n",
    "def tambah_mahasiswa(mahasiswa: Mahasiswa):\n",
    "    mahasiswa_list.append(mahasiswa.dict())\n",
    "    return {\"pesan\": \"Mahasiswa berhasil ditambahkan\"}\n",
    "\n",
    "@app.delete(\"/api/Mahasiswa/{index}\")\n",
    "def hapus_mahasiswa(index: int):\n",
    "    if 0 <= index < len(mahasiswa_list):\n",
    "        deleted = mahasiswa_list.pop(index)\n",
    "        return {\"pesan\": \"Mahasiswa berhasil dihapus\", \"data\": deleted}\n",
    "    return {\"error\": \"Index tidak ditemukan\"}\n",
    "\n",
    "# Jalankan server\n",
    "nest_asyncio.apply()\n",
    "public_url = ngrok.connect(3000)\n",
    "print(\"🚀 Swagger UI:\", public_url.public_url + \"/docs\")\n",
    "print(\"🚀 API URL:\", public_url.public_url)\n",
    "\n",
    "uvicorn.run(app, port=3000)"
   ]
  }
 ],
 "metadata": {
  "kernelspec": {
   "display_name": "Python 3",
   "language": "python",
   "name": "python3"
  },
  "language_info": {
   "codemirror_mode": {
    "name": "ipython",
    "version": 3
   },
   "file_extension": ".py",
   "mimetype": "text/x-python",
   "name": "python",
   "nbconvert_exporter": "python",
   "pygments_lexer": "ipython3",
   "version": "3.12.1"
  }
 },
 "nbformat": 4,
 "nbformat_minor": 5
}
