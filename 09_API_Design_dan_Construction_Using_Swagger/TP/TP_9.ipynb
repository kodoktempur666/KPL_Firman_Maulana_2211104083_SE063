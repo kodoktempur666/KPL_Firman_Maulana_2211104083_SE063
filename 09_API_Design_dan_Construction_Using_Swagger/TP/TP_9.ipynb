{
  "cells": [
    {
      "cell_type": "code",
      "execution_count": 1,
      "metadata": {
        "colab": {
          "base_uri": "https://localhost:8080/"
        },
        "id": "ixpotYmlRn4x",
        "outputId": "3b546a4d-e30f-45c8-f8d1-0639e6cfd952"
      },
      "outputs": [
        {
          "name": "stderr",
          "output_type": "stream",
          "text": [
            "'pip' is not recognized as an internal or external command,\n",
            "operable program or batch file.\n"
          ]
        }
      ],
      "source": [
        "!pip install fastapi uvicorn nest-asyncio pyngrok"
      ]
    },
    {
      "cell_type": "code",
      "execution_count": 2,
      "metadata": {
        "colab": {
          "base_uri": "https://localhost:8080/"
        },
        "id": "mH1xK31mSjzZ",
        "outputId": "9ce3b2ba-3e7d-4807-8d05-061d55db8521"
      },
      "outputs": [
        {
          "name": "stderr",
          "output_type": "stream",
          "text": [
            "INFO:     Started server process [25456]\n",
            "INFO:     Waiting for application startup.\n",
            "INFO:     Application startup complete.\n",
            "INFO:     Uvicorn running on http://127.0.0.1:8000 (Press CTRL+C to quit)\n"
          ]
        },
        {
          "name": "stdout",
          "output_type": "stream",
          "text": [
            "🚀 Swagger UI: https://9bcf-2a09-bac1-34c0-20-00-3c1-2d.ngrok-free.app/docs\n",
            "🚀 API URL: https://9bcf-2a09-bac1-34c0-20-00-3c1-2d.ngrok-free.app\n",
            "INFO:     2a09:bac1:34c0:20::3c1:2d:0 - \"GET /docs HTTP/1.1\" 200 OK\n",
            "INFO:     2a09:bac1:34c0:20::3c1:2d:0 - \"GET /openapi.json HTTP/1.1\" 200 OK\n",
            "INFO:     2a09:bac1:34c0:20::3c1:2d:0 - \"GET /api/Mahasiswa HTTP/1.1\" 200 OK\n",
            "INFO:     2a09:bac1:34c0:20::3c1:2d:0 - \"GET /api/Mahasiswa HTTP/1.1\" 200 OK\n",
            "INFO:     2a09:bac1:34c0:20::3c1:2d:0 - \"POST /api/Mahasiswa HTTP/1.1\" 200 OK\n"
          ]
        },
        {
          "name": "stderr",
          "output_type": "stream",
          "text": [
            "C:\\Users\\rth30\\AppData\\Local\\Temp\\ipykernel_25456\\1382311771.py:40: PydanticDeprecatedSince20: The `dict` method is deprecated; use `model_dump` instead. Deprecated in Pydantic V2.0 to be removed in V3.0. See Pydantic V2 Migration Guide at https://errors.pydantic.dev/2.11/migration/\n",
            "  mahasiswa_list.append(mahasiswa.dict())\n"
          ]
        },
        {
          "name": "stdout",
          "output_type": "stream",
          "text": [
            "INFO:     2a09:bac1:34c0:20::3c1:2d:0 - \"GET /api/Mahasiswa HTTP/1.1\" 200 OK\n",
            "INFO:     2a09:bac1:34c0:20::3c1:2d:0 - \"DELETE /api/Mahasiswa/4 HTTP/1.1\" 200 OK\n",
            "INFO:     2a09:bac1:34c0:20::3c1:2d:0 - \"GET /api/Mahasiswa/2 HTTP/1.1\" 200 OK\n"
          ]
        },
        {
          "name": "stderr",
          "output_type": "stream",
          "text": [
            "INFO:     Shutting down\n",
            "INFO:     Waiting for application shutdown.\n",
            "INFO:     Application shutdown complete.\n",
            "INFO:     Finished server process [25456]\n"
          ]
        },
        {
          "name": "stderr",
          "output_type": "stream",
          "text": [
            "t=2025-05-18T20:26:53+0700 lvl=warn msg=\"Stopping forwarder\" name=http-8000-787f3472-ef6c-4968-b6bb-0b989b312584 acceptErr=\"failed to accept connection: Listener closed\"\n"
          ]
        }
      ],
      "source": [
        "# Import library\n",
        "from fastapi import FastAPI\n",
        "from pydantic import BaseModel\n",
        "import nest_asyncio\n",
        "from pyngrok import ngrok, conf\n",
        "import uvicorn\n",
        "\n",
        "# Inisialisasi FastAPI\n",
        "app = FastAPI()\n",
        "\n",
        "# Konfigurasi ngrok (ganti token dengan punyamu)\n",
        "conf.get_default().auth_token = \"2wD8JEEpcpOfXWgQQ865NI554c3_5DisMVea3X1AhsrDM3CDK\"\n",
        "\n",
        "# MODELS\n",
        "class Mahasiswa(BaseModel):\n",
        "    nama: str\n",
        "    nim: str\n",
        "\n",
        "# DATA MAHASISWA - isi sesuai anggota kelompok (nama kamu paling atas)\n",
        "mahasiswa_list = [\n",
        "    {\"nama\": \"Firman Maulana\", \"nim\": \"2211104083\"},\n",
        "    {\"nama\": \"John Doe\", \"nim\": \"1111111111\"},\n",
        "    {\"nama\": \"Mark\", \"nim\": \"2222222222\"},\n",
        "    {\"nama\": \"Sarah\", \"nim\": \"3333333333\"},\n",
        "]\n",
        "\n",
        "# ENDPOINTS\n",
        "@app.get(\"/api/Mahasiswa\")\n",
        "def get_semua_mahasiswa():\n",
        "    return mahasiswa_list\n",
        "\n",
        "@app.get(\"/api/Mahasiswa/{index}\")\n",
        "def get_mahasiswa(index: int):\n",
        "    if 0 <= index < len(mahasiswa_list):\n",
        "        return mahasiswa_list[index]\n",
        "    return {\"error\": \"Index tidak ditemukan\"}\n",
        "\n",
        "@app.post(\"/api/Mahasiswa\")\n",
        "def tambah_mahasiswa(mahasiswa: Mahasiswa):\n",
        "    mahasiswa_list.append(mahasiswa.dict())\n",
        "    return {\"pesan\": \"Mahasiswa berhasil ditambahkan\"}\n",
        "\n",
        "@app.delete(\"/api/Mahasiswa/{index}\")\n",
        "def hapus_mahasiswa(index: int):\n",
        "    if 0 <= index < len(mahasiswa_list):\n",
        "        deleted = mahasiswa_list.pop(index)\n",
        "        return {\"pesan\": \"Mahasiswa berhasil dihapus\", \"data\": deleted}\n",
        "    return {\"error\": \"Index tidak ditemukan\"}\n",
        "\n",
        "# Jalankan server\n",
        "nest_asyncio.apply()\n",
        "public_url = ngrok.connect(8000)\n",
        "print(\"🚀 Swagger UI:\", public_url.public_url + \"/docs\")\n",
        "print(\"🚀 API URL:\", public_url.public_url)\n",
        "\n",
        "uvicorn.run(app, port=8000)"
      ]
    }
  ],
  "metadata": {
    "colab": {
      "provenance": []
    },
    "kernelspec": {
      "display_name": "Python 3",
      "name": "python3"
    },
    "language_info": {
      "codemirror_mode": {
        "name": "ipython",
        "version": 3
      },
      "file_extension": ".py",
      "mimetype": "text/x-python",
      "name": "python",
      "nbconvert_exporter": "python",
      "pygments_lexer": "ipython3",
      "version": "3.12.1"
    }
  },
  "nbformat": 4,
  "nbformat_minor": 0
}
